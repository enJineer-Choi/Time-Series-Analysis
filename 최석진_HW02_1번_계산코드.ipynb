{
  "nbformat": 4,
  "nbformat_minor": 0,
  "metadata": {
    "colab": {
      "provenance": []
    },
    "kernelspec": {
      "name": "ir",
      "display_name": "R"
    },
    "language_info": {
      "name": "R"
    }
  },
  "cells": [
    {
      "cell_type": "markdown",
      "source": [
        "#1. 중간재출하지수 자료를 이용하여 예측값 계산"
      ],
      "metadata": {
        "id": "bTMt_KZiB_np"
      }
    },
    {
      "cell_type": "code",
      "execution_count": 1,
      "metadata": {
        "colab": {
          "base_uri": "https://localhost:8080/",
          "height": 34
        },
        "id": "vgd1FEPX6Wu2",
        "outputId": "9bebe0c3-8a4e-4bb8-b3b8-ef7181225edb"
      },
      "outputs": [
        {
          "output_type": "display_data",
          "data": {
            "text/html": [
              "100"
            ],
            "text/markdown": "100",
            "text/latex": "100",
            "text/plain": [
              "[1] 100"
            ]
          },
          "metadata": {}
        }
      ],
      "source": [
        "m=scan(\"mindex.txt\")\n",
        "length(m)"
      ]
    },
    {
      "cell_type": "code",
      "source": [
        "head(m)"
      ],
      "metadata": {
        "colab": {
          "base_uri": "https://localhost:8080/",
          "height": 34
        },
        "id": "5B3iItBk6fLy",
        "outputId": "e8381a71-7158-4738-d1c7-d18f50afe51e"
      },
      "execution_count": 2,
      "outputs": [
        {
          "output_type": "display_data",
          "data": {
            "text/html": [
              "<style>\n",
              ".list-inline {list-style: none; margin:0; padding: 0}\n",
              ".list-inline>li {display: inline-block}\n",
              ".list-inline>li:not(:last-child)::after {content: \"\\00b7\"; padding: 0 .5ex}\n",
              "</style>\n",
              "<ol class=list-inline><li>9.3</li><li>10.7</li><li>13.3</li><li>14.1</li><li>17.8</li><li>18.1</li></ol>\n"
            ],
            "text/markdown": "1. 9.3\n2. 10.7\n3. 13.3\n4. 14.1\n5. 17.8\n6. 18.1\n\n\n",
            "text/latex": "\\begin{enumerate*}\n\\item 9.3\n\\item 10.7\n\\item 13.3\n\\item 14.1\n\\item 17.8\n\\item 18.1\n\\end{enumerate*}\n",
            "text/plain": [
              "[1]  9.3 10.7 13.3 14.1 17.8 18.1"
            ]
          },
          "metadata": {}
        }
      ]
    },
    {
      "cell_type": "markdown",
      "source": [
        "$S_n^{(1)}=w\\sum_{j=0}^{n-1}(1-w)^j×Z_{n-j}+(1-w)^n×S_0^{(1)}$"
      ],
      "metadata": {
        "id": "pWeBMLsd6jfb"
      }
    },
    {
      "cell_type": "markdown",
      "source": [
        "### w=0.6일때"
      ],
      "metadata": {
        "id": "r6N0KX5CCXQX"
      }
    },
    {
      "cell_type": "markdown",
      "source": [
        "- t=2일 때 직접 계산"
      ],
      "metadata": {
        "id": "AKH5mUnS7abc"
      }
    },
    {
      "cell_type": "code",
      "source": [
        "0.6*9.3+0.4*15"
      ],
      "metadata": {
        "colab": {
          "base_uri": "https://localhost:8080/",
          "height": 34
        },
        "id": "zcCvpdHY8RsA",
        "outputId": "9369f866-fe63-4440-a923-6439e47860d0"
      },
      "execution_count": 9,
      "outputs": [
        {
          "output_type": "display_data",
          "data": {
            "text/html": [
              "11.58"
            ],
            "text/markdown": "11.58",
            "text/latex": "11.58",
            "text/plain": [
              "[1] 11.58"
            ]
          },
          "metadata": {}
        }
      ]
    },
    {
      "cell_type": "markdown",
      "source": [
        "- t=3일때 직접 계산"
      ],
      "metadata": {
        "id": "hBUJnnXOCOuR"
      }
    },
    {
      "cell_type": "code",
      "source": [
        "0.6*10.7+0.6*0.4*9.3+0.4*0.4*15"
      ],
      "metadata": {
        "colab": {
          "base_uri": "https://localhost:8080/",
          "height": 34
        },
        "id": "9rkuBhMUAVxI",
        "outputId": "b9d12d7f-b1e3-4369-8e44-8a690fa410a3"
      },
      "execution_count": 12,
      "outputs": [
        {
          "output_type": "display_data",
          "data": {
            "text/html": [
              "11.052"
            ],
            "text/markdown": "11.052",
            "text/latex": "11.052",
            "text/plain": [
              "[1] 11.052"
            ]
          },
          "metadata": {}
        }
      ]
    },
    {
      "cell_type": "markdown",
      "source": [
        "- for문을 이용한 반복계산"
      ],
      "metadata": {
        "id": "Tv3SbBLvCSLe"
      }
    },
    {
      "cell_type": "code",
      "source": [
        "w = 0.6\n",
        "S_0_1=15\n",
        "n_values=1:100\n",
        "\n",
        "S_n_1=numeric(length(n_values))\n",
        "\n",
        "\n",
        "for (n in n_values) {\n",
        "  sum_part=sum((1 - w)^(0:(n - 1)) * m[(n:1)])\n",
        "  S_n_1[n]= w * sum_part + (1 - w)^n * S_0_1\n",
        "}\n",
        "\n",
        "print(S_n_1)\n"
      ],
      "metadata": {
        "colab": {
          "base_uri": "https://localhost:8080/"
        },
        "id": "CRHf5aGO8c0s",
        "outputId": "55da01de-b5b1-4ed1-d87a-d50fba7df4eb"
      },
      "execution_count": 14,
      "outputs": [
        {
          "output_type": "stream",
          "name": "stdout",
          "text": [
            "  [1] 11.580000 11.052000 12.400800 13.420320 16.048128 17.279251 18.551700\n",
            "  [8] 18.700680 18.940272 18.616109 18.246444 17.498577 18.699431 19.539772\n",
            " [15] 19.455909 17.202364 16.240945 16.156378 15.402551 15.761021 15.064408\n",
            " [22] 17.005763 17.722305 20.888922 21.675569 21.930228 20.052091 18.640836\n",
            " [29] 15.736335 13.914534 15.465814 15.546325 15.998530 12.819412 11.367765\n",
            " [36]  8.747106  6.318842  5.227537  4.491015  5.396406  5.878562  5.771425\n",
            " [43]  4.948570  4.499428  4.799771  5.399908  5.999963  5.339985  6.875994\n",
            " [50]  7.670398 10.148159 10.059264 10.683705 11.293482 11.957393 13.902957\n",
            " [57] 13.961183 14.704473 13.621789 16.248716 15.139486 13.675795 10.450318\n",
            " [64] 11.080127 11.572051 11.588820 10.815528  9.426211 10.730485 11.672194\n",
            " [71] 13.368878 12.007551 11.883020 12.193208 12.497283 10.878913 10.351565\n",
            " [78] 10.260626  9.864250  8.085700  6.414280  5.445712  4.938285  3.115314\n",
            " [85]  3.526126  4.230450  6.312180  6.724872  7.009949  7.483980  8.153592\n",
            " [92] 10.101437 10.460575 11.264230 11.285692 14.114277 13.565711 12.626284\n",
            " [99] 10.150514 10.900205\n"
          ]
        }
      ]
    },
    {
      "cell_type": "markdown",
      "source": [
        "### w=0.2일때"
      ],
      "metadata": {
        "id": "ClC5K9458krw"
      }
    },
    {
      "cell_type": "markdown",
      "source": [
        "- t=2일때 직접 계산"
      ],
      "metadata": {
        "id": "jJWSYDu8BCEB"
      }
    },
    {
      "cell_type": "code",
      "source": [
        "0.2*9.3+0.8*15"
      ],
      "metadata": {
        "colab": {
          "base_uri": "https://localhost:8080/",
          "height": 34
        },
        "id": "eYKNFbOtCe_8",
        "outputId": "66afc9d1-b897-411b-c989-8b7101b5dbac"
      },
      "execution_count": 15,
      "outputs": [
        {
          "output_type": "display_data",
          "data": {
            "text/html": [
              "13.86"
            ],
            "text/markdown": "13.86",
            "text/latex": "13.86",
            "text/plain": [
              "[1] 13.86"
            ]
          },
          "metadata": {}
        }
      ]
    },
    {
      "cell_type": "markdown",
      "source": [
        "- t=3일때 직접 계산"
      ],
      "metadata": {
        "id": "GsEu36DfCfRT"
      }
    },
    {
      "cell_type": "code",
      "source": [
        "0.2*10.7+0.2*0.8*9.3+0.8*0.8*15"
      ],
      "metadata": {
        "colab": {
          "base_uri": "https://localhost:8080/",
          "height": 34
        },
        "id": "YYpODjxvCjew",
        "outputId": "841a3b51-bd6d-4128-f335-ea90040bf66f"
      },
      "execution_count": 16,
      "outputs": [
        {
          "output_type": "display_data",
          "data": {
            "text/html": [
              "13.228"
            ],
            "text/markdown": "13.228",
            "text/latex": "13.228",
            "text/plain": [
              "[1] 13.228"
            ]
          },
          "metadata": {}
        }
      ]
    },
    {
      "cell_type": "markdown",
      "source": [
        "- for문을 이용한 반복계산"
      ],
      "metadata": {
        "id": "8-FbLn4eDBXx"
      }
    },
    {
      "cell_type": "code",
      "source": [
        "w = 0.2\n",
        "S_0_1=15\n",
        "n_values=1:100\n",
        "\n",
        "S_n_1=numeric(length(n_values))\n",
        "\n",
        "\n",
        "for (n in n_values) {\n",
        "  sum_part=sum((1 - w)^(0:(n - 1)) * m[(n:1)])\n",
        "  S_n_1[n]= w * sum_part + (1 - w)^n * S_0_1\n",
        "}\n",
        "\n",
        "print(S_n_1)\n"
      ],
      "metadata": {
        "colab": {
          "base_uri": "https://localhost:8080/"
        },
        "id": "FPiE2I1-DFdI",
        "outputId": "987b5600-e4b9-4f11-d8b2-ce32e0b5eead"
      },
      "execution_count": 18,
      "outputs": [
        {
          "output_type": "stream",
          "name": "stdout",
          "text": [
            "  [1] 13.860000 13.228000 13.242400 13.413920 14.291136 15.052909 15.922327\n",
            "  [8] 16.497862 17.018289 17.294631 17.435705 17.348564 17.778851 18.243081\n",
            " [15] 18.474465 17.919572 17.455657 17.184526 16.727621 16.582097 16.185677\n",
            " [22] 16.608542 16.926833 18.141467 18.953173 19.582539 19.426031 19.080825\n",
            " [29] 18.024660 16.959728 16.867782 16.614226 16.551381 15.381105 14.384884\n",
            " [36] 12.907907 11.266326  9.913060  8.730448  8.184359  7.787487  7.369990\n",
            " [43]  6.775992  6.260793  6.008635  5.966908  6.053526  5.822821  6.238257\n",
            " [50]  6.630605  7.664484  8.131587  8.725270  9.320216  9.936173 10.988938\n",
            " [57] 11.591151 12.312920 12.430336 13.544269 13.715415 13.512332 12.469866\n",
            " [64] 12.275893 12.200714 12.080571 11.724457 11.079566 11.183652 11.406922\n",
            " [71] 12.025538 11.840430 11.832344 11.945875 12.096700 11.637360 11.309888\n",
            " [78] 11.087911 10.790328 10.012263  9.069810  8.215848  7.492679  6.374143\n",
            " [85]  5.859314  5.627451  6.041961  6.233569  6.426855  6.701484  7.081187\n",
            " [92]  7.944950  8.495960  9.156768  9.585414 10.868331 11.334665 11.467732\n",
            " [99] 10.874186 10.979349\n"
          ]
        }
      ]
    },
    {
      "cell_type": "code",
      "source": [],
      "metadata": {
        "id": "qs3yUlf0DFyM"
      },
      "execution_count": null,
      "outputs": []
    }
  ]
}