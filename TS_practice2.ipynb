{
 "cells": [
  {
   "cell_type": "markdown",
   "id": "f7f7a7a9-1f62-4eed-b048-79a3e79da5aa",
   "metadata": {},
   "source": [
    "# Time Series Anaylsis"
   ]
  },
  {
   "cell_type": "markdown",
   "id": "6f849c77-9a5c-4427-808a-40db6dda4ffe",
   "metadata": {},
   "source": [
    "## Practice 2"
   ]
  },
  {
   "cell_type": "markdown",
   "id": "e10d63c3-3c1f-4ccb-9d39-3aa3febcecff",
   "metadata": {},
   "source": [
    "### Lubridate package 활용하기"
   ]
  },
  {
   "cell_type": "code",
   "execution_count": 4,
   "id": "6cf4946a-6adb-4bd2-856b-36b0d1cf698e",
   "metadata": {},
   "outputs": [
    {
     "name": "stderr",
     "output_type": "stream",
     "text": [
      "Warning message:\n",
      "\"package 'lubridate' was built under R version 3.6.3\"\n",
      "Attaching package: 'lubridate'\n",
      "\n",
      "The following objects are masked from 'package:base':\n",
      "\n",
      "    date, intersect, setdiff, union\n",
      "\n"
     ]
    }
   ],
   "source": [
    "#install.packages(\"lubridate\")\n",
    "library(lubridate)"
   ]
  },
  {
   "cell_type": "markdown",
   "id": "91a89f18-0528-48d7-a294-eab58a97cb21",
   "metadata": {},
   "source": [
    "#### 날짜,시간 정보를 추출"
   ]
  },
  {
   "cell_type": "code",
   "execution_count": 5,
   "id": "54b6e74e-485e-41ee-8a34-89a4426e0460",
   "metadata": {},
   "outputs": [
    {
     "data": {
      "text/html": [
       "<time datetime=\"2023-09-14\">2023-09-14</time>"
      ],
      "text/latex": [
       "2023-09-14"
      ],
      "text/markdown": [
       "2023-09-14"
      ],
      "text/plain": [
       "[1] \"2023-09-14\""
      ]
     },
     "metadata": {},
     "output_type": "display_data"
    }
   ],
   "source": [
    "a=today()\n",
    "a"
   ]
  },
  {
   "cell_type": "code",
   "execution_count": 6,
   "id": "1dfea2c8-9050-48d1-b6e4-7e7459ed8a50",
   "metadata": {},
   "outputs": [
    {
     "data": {
      "text/html": [
       "'Date'"
      ],
      "text/latex": [
       "'Date'"
      ],
      "text/markdown": [
       "'Date'"
      ],
      "text/plain": [
       "[1] \"Date\""
      ]
     },
     "metadata": {},
     "output_type": "display_data"
    }
   ],
   "source": [
    "class(a)"
   ]
  },
  {
   "cell_type": "code",
   "execution_count": 7,
   "id": "ff6d0e1f-4170-492c-90b7-d2802da7592c",
   "metadata": {},
   "outputs": [
    {
     "data": {
      "text/html": [
       "2023"
      ],
      "text/latex": [
       "2023"
      ],
      "text/markdown": [
       "2023"
      ],
      "text/plain": [
       "[1] 2023"
      ]
     },
     "metadata": {},
     "output_type": "display_data"
    }
   ],
   "source": [
    "year(a)"
   ]
  },
  {
   "cell_type": "code",
   "execution_count": 8,
   "id": "f4661609-12fd-4da8-a395-fcefa838ef98",
   "metadata": {},
   "outputs": [
    {
     "data": {
      "text/html": [
       "9"
      ],
      "text/latex": [
       "9"
      ],
      "text/markdown": [
       "9"
      ],
      "text/plain": [
       "[1] 9"
      ]
     },
     "metadata": {},
     "output_type": "display_data"
    }
   ],
   "source": [
    "month(a)"
   ]
  },
  {
   "cell_type": "code",
   "execution_count": 9,
   "id": "6e06a527-46ca-4afd-aad0-55a54d0de263",
   "metadata": {},
   "outputs": [
    {
     "data": {
      "text/html": [
       "14"
      ],
      "text/latex": [
       "14"
      ],
      "text/markdown": [
       "14"
      ],
      "text/plain": [
       "[1] 14"
      ]
     },
     "metadata": {},
     "output_type": "display_data"
    }
   ],
   "source": [
    "day(a)"
   ]
  },
  {
   "cell_type": "code",
   "execution_count": 11,
   "id": "409e2072-f000-4fbb-9152-364e9256ea69",
   "metadata": {},
   "outputs": [
    {
     "data": {
      "text/html": [
       "5"
      ],
      "text/latex": [
       "5"
      ],
      "text/markdown": [
       "5"
      ],
      "text/plain": [
       "[1] 5"
      ]
     },
     "metadata": {},
     "output_type": "display_data"
    }
   ],
   "source": [
    "wday(a) ## 일요일이 1에 매칭 5-> 목요일"
   ]
  },
  {
   "cell_type": "code",
   "execution_count": 12,
   "id": "baca0c0d-896f-4939-8763-e48f481b17d7",
   "metadata": {},
   "outputs": [
    {
     "data": {
      "text/plain": [
       "[1] \"2023-09-14 00:17:22 KST\""
      ]
     },
     "metadata": {},
     "output_type": "display_data"
    }
   ],
   "source": [
    "now()"
   ]
  },
  {
   "cell_type": "code",
   "execution_count": 13,
   "id": "ed761b66-4636-471b-989e-a271008036ee",
   "metadata": {},
   "outputs": [
    {
     "data": {
      "text/html": [
       "<ol class=list-inline>\n",
       "\t<li>'POSIXct'</li>\n",
       "\t<li>'POSIXt'</li>\n",
       "</ol>\n"
      ],
      "text/latex": [
       "\\begin{enumerate*}\n",
       "\\item 'POSIXct'\n",
       "\\item 'POSIXt'\n",
       "\\end{enumerate*}\n"
      ],
      "text/markdown": [
       "1. 'POSIXct'\n",
       "2. 'POSIXt'\n",
       "\n",
       "\n"
      ],
      "text/plain": [
       "[1] \"POSIXct\" \"POSIXt\" "
      ]
     },
     "metadata": {},
     "output_type": "display_data"
    }
   ],
   "source": [
    "class(now())"
   ]
  },
  {
   "cell_type": "code",
   "execution_count": 14,
   "id": "53089105-a95b-4181-9921-0c96103729e0",
   "metadata": {},
   "outputs": [],
   "source": [
    "now=now()"
   ]
  },
  {
   "cell_type": "code",
   "execution_count": 15,
   "id": "0497f470-0997-41f5-b747-ce5f00fc5a11",
   "metadata": {},
   "outputs": [
    {
     "data": {
      "text/html": [
       "0"
      ],
      "text/latex": [
       "0"
      ],
      "text/markdown": [
       "0"
      ],
      "text/plain": [
       "[1] 0"
      ]
     },
     "metadata": {},
     "output_type": "display_data"
    }
   ],
   "source": [
    "hour(now)"
   ]
  },
  {
   "cell_type": "code",
   "execution_count": 16,
   "id": "d939ede9-8a6a-49d1-a9c9-26aac6ca0aa8",
   "metadata": {},
   "outputs": [
    {
     "data": {
      "text/html": [
       "17"
      ],
      "text/latex": [
       "17"
      ],
      "text/markdown": [
       "17"
      ],
      "text/plain": [
       "[1] 17"
      ]
     },
     "metadata": {},
     "output_type": "display_data"
    }
   ],
   "source": [
    "minute(now)"
   ]
  },
  {
   "cell_type": "code",
   "execution_count": 17,
   "id": "e855b20c-3cb5-4ae2-a973-fdb61973e51c",
   "metadata": {},
   "outputs": [
    {
     "data": {
      "text/html": [
       "33.8686530590057"
      ],
      "text/latex": [
       "33.8686530590057"
      ],
      "text/markdown": [
       "33.8686530590057"
      ],
      "text/plain": [
       "[1] 33.86865"
      ]
     },
     "metadata": {},
     "output_type": "display_data"
    }
   ],
   "source": [
    "second(now)"
   ]
  },
  {
   "cell_type": "code",
   "execution_count": 19,
   "id": "20b121b4-73ce-42a4-badd-1f44c7bbb29f",
   "metadata": {},
   "outputs": [
    {
     "data": {
      "text/html": [
       "<time datetime=\"2023-09-12\">2023-09-12</time>"
      ],
      "text/latex": [
       "2023-09-12"
      ],
      "text/markdown": [
       "2023-09-12"
      ],
      "text/plain": [
       "[1] \"2023-09-12\""
      ]
     },
     "metadata": {},
     "output_type": "display_data"
    }
   ],
   "source": [
    "ymd(\"2023-09-12\")"
   ]
  },
  {
   "cell_type": "code",
   "execution_count": 20,
   "id": "508ae4db-d014-4b4c-a5eb-967996cf1981",
   "metadata": {},
   "outputs": [
    {
     "data": {
      "text/html": [
       "<time datetime=\"2023-09-12\">2023-09-12</time>"
      ],
      "text/latex": [
       "2023-09-12"
      ],
      "text/markdown": [
       "2023-09-12"
      ],
      "text/plain": [
       "[1] \"2023-09-12\""
      ]
     },
     "metadata": {},
     "output_type": "display_data"
    }
   ],
   "source": [
    "mdy(\"09-12-23\")"
   ]
  },
  {
   "cell_type": "code",
   "execution_count": 21,
   "id": "d9b4d28a-5b90-4bbd-913d-91303e173e66",
   "metadata": {},
   "outputs": [
    {
     "data": {
      "text/html": [
       "<time datetime=\"2023-09-12\">2023-09-12</time>"
      ],
      "text/latex": [
       "2023-09-12"
      ],
      "text/markdown": [
       "2023-09-12"
      ],
      "text/plain": [
       "[1] \"2023-09-12\""
      ]
     },
     "metadata": {},
     "output_type": "display_data"
    }
   ],
   "source": [
    "ymd(20230912)"
   ]
  },
  {
   "cell_type": "code",
   "execution_count": 22,
   "id": "b3bca1a9-7c4c-4faf-bd34-a514f6acf8ce",
   "metadata": {},
   "outputs": [
    {
     "data": {
      "text/html": [
       "<time datetime=\"2023-09-12\">2023-09-12</time>"
      ],
      "text/latex": [
       "2023-09-12"
      ],
      "text/markdown": [
       "2023-09-12"
      ],
      "text/plain": [
       "[1] \"2023-09-12\""
      ]
     },
     "metadata": {},
     "output_type": "display_data"
    }
   ],
   "source": [
    "ymd(\"2023 Sep 12\",locale=\"USA\") ##Sep -> 미국임을 해주지 않으면 01로 인식"
   ]
  },
  {
   "cell_type": "code",
   "execution_count": 25,
   "id": "7bbfa26b-28af-47c9-95a1-1706239cb9a4",
   "metadata": {},
   "outputs": [
    {
     "data": {
      "text/plain": [
       "[1] \"2023-09-12 09:00:00 KST\""
      ]
     },
     "metadata": {},
     "output_type": "display_data"
    }
   ],
   "source": [
    "a=ymd_hms(\"2023-09-12 09:00:00\" ,tz=\"Asia/Seoul\") ##tz->timezone\n",
    "a ###KST로 한국 시간임을 알수 있음"
   ]
  },
  {
   "cell_type": "code",
   "execution_count": 26,
   "id": "8ee70179-ac96-4b9a-a28b-a121234662c2",
   "metadata": {},
   "outputs": [
    {
     "data": {
      "text/plain": [
       "[1] \"2023-09-11 20:00:00 EDT\""
      ]
     },
     "metadata": {},
     "output_type": "display_data"
    }
   ],
   "source": [
    "with_tz(a,tz=\"America/New_York\")"
   ]
  },
  {
   "cell_type": "markdown",
   "id": "382b80c2-9a50-48fe-b9c1-2cbb0ad5a0fd",
   "metadata": {},
   "source": [
    "### 주의!\n",
    "- 시간을 비교할 때는 특히 주의할것\n",
    "- 예를 들면 한국시간 9/12 9시 이면 미국시간은 9/11 20시 임을 알 수 있음\n",
    "- 같은 시간을 비교한다고 한국과 미국 둘다 9/12 9시로 비교하게 되면 미국 입장에서는 미래 정보를 매칭하게 되는 것임\n",
    "- 시계열 데이터에서는 **미래 정보**는 매우 주의해야함!"
   ]
  },
  {
   "cell_type": "code",
   "execution_count": 27,
   "id": "10532791-9b07-444d-901a-af9be4a7ffed",
   "metadata": {},
   "outputs": [
    {
     "data": {
      "text/html": [
       "<time datetime=\"2023-09-01\">2023-09-01</time>"
      ],
      "text/latex": [
       "2023-09-01"
      ],
      "text/markdown": [
       "2023-09-01"
      ],
      "text/plain": [
       "[1] \"2023-09-01\""
      ]
     },
     "metadata": {},
     "output_type": "display_data"
    }
   ],
   "source": [
    "ym(202309)"
   ]
  },
  {
   "cell_type": "code",
   "execution_count": 28,
   "id": "33ba389e-e920-4724-aabb-da1d6a6b7b7f",
   "metadata": {},
   "outputs": [
    {
     "data": {
      "text/html": [
       "11H 30M 0S"
      ],
      "text/latex": [
       "11H 30M 0S"
      ],
      "text/markdown": [
       "11H 30M 0S"
      ],
      "text/plain": [
       "[1] \"11H 30M 0S\""
      ]
     },
     "metadata": {},
     "output_type": "display_data"
    }
   ],
   "source": [
    "hms('11:30:00')"
   ]
  },
  {
   "cell_type": "code",
   "execution_count": 29,
   "id": "fd878cae-113f-4523-91d4-e6fbfc1d6b16",
   "metadata": {},
   "outputs": [
    {
     "data": {
      "text/html": [
       "11H 30M 0S"
      ],
      "text/latex": [
       "11H 30M 0S"
      ],
      "text/markdown": [
       "11H 30M 0S"
      ],
      "text/plain": [
       "[1] \"11H 30M 0S\""
      ]
     },
     "metadata": {},
     "output_type": "display_data"
    }
   ],
   "source": [
    "hm('11:30')"
   ]
  },
  {
   "cell_type": "code",
   "execution_count": 30,
   "id": "f99578c0-2c99-4dcf-9f36-78b110228449",
   "metadata": {},
   "outputs": [
    {
     "data": {
      "text/plain": [
       "[1] \"2023-09-14 00:25:13 KST\""
      ]
     },
     "metadata": {},
     "output_type": "display_data"
    }
   ],
   "source": [
    "now=now()\n",
    "now"
   ]
  },
  {
   "cell_type": "code",
   "execution_count": 31,
   "id": "5d47daa2-0c14-46b1-805c-cb6b0b8bb157",
   "metadata": {},
   "outputs": [
    {
     "data": {
      "text/plain": [
       "[1] \"2000-09-14 00:25:13 KST\""
      ]
     },
     "metadata": {},
     "output_type": "display_data"
    }
   ],
   "source": [
    "update(now,years=2000) ##update() : 말그대로 원하는 연도,월,일 을 업데이트 해주는 것"
   ]
  },
  {
   "cell_type": "code",
   "execution_count": null,
   "id": "5f39589a-a7be-46a7-87b6-f182097c4705",
   "metadata": {},
   "outputs": [],
   "source": []
  }
 ],
 "metadata": {
  "kernelspec": {
   "display_name": "R",
   "language": "R",
   "name": "ir"
  },
  "language_info": {
   "codemirror_mode": "r",
   "file_extension": ".r",
   "mimetype": "text/x-r-source",
   "name": "R",
   "pygments_lexer": "r",
   "version": "3.6.1"
  }
 },
 "nbformat": 4,
 "nbformat_minor": 5
}
